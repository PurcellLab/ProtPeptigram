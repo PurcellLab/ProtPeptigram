{
 "cells": [
  {
   "cell_type": "code",
   "execution_count": null,
   "id": "5967d536",
   "metadata": {},
   "outputs": [
    {
     "name": "stdout",
     "output_type": "stream",
     "text": [
      "Requirement already satisfied: protpeptigram in /Users/sanjay/Monash/Master_thesis/lab_work/Li_Lab/ProtPeptigram/.venv/lib/python3.12/site-packages (1.1.1.dev0)\n",
      "Requirement already satisfied: pandas>=1.3.0 in /Users/sanjay/Monash/Master_thesis/lab_work/Li_Lab/ProtPeptigram/.venv/lib/python3.12/site-packages (from protpeptigram) (2.2.3)\n",
      "Requirement already satisfied: numpy>=1.20.0 in /Users/sanjay/Monash/Master_thesis/lab_work/Li_Lab/ProtPeptigram/.venv/lib/python3.12/site-packages (from protpeptigram) (2.2.4)\n",
      "Requirement already satisfied: matplotlib>=3.4.0 in /Users/sanjay/Monash/Master_thesis/lab_work/Li_Lab/ProtPeptigram/.venv/lib/python3.12/site-packages (from protpeptigram) (3.10.1)\n",
      "Requirement already satisfied: seaborn>=0.11.0 in /Users/sanjay/Monash/Master_thesis/lab_work/Li_Lab/ProtPeptigram/.venv/lib/python3.12/site-packages (from protpeptigram) (0.13.2)\n",
      "Requirement already satisfied: biopython>=1.79 in /Users/sanjay/Monash/Master_thesis/lab_work/Li_Lab/ProtPeptigram/.venv/lib/python3.12/site-packages (from protpeptigram) (1.85)\n",
      "Requirement already satisfied: rich>=10.0.0 in /Users/sanjay/Monash/Master_thesis/lab_work/Li_Lab/ProtPeptigram/.venv/lib/python3.12/site-packages (from protpeptigram) (14.0.0)\n",
      "Requirement already satisfied: rich-argparse>=0.5.0 in /Users/sanjay/Monash/Master_thesis/lab_work/Li_Lab/ProtPeptigram/.venv/lib/python3.12/site-packages (from protpeptigram) (1.7.0)\n",
      "Requirement already satisfied: click>=8.0.0 in /Users/sanjay/Monash/Master_thesis/lab_work/Li_Lab/ProtPeptigram/.venv/lib/python3.12/site-packages (from protpeptigram) (8.1.8)\n",
      "Requirement already satisfied: contourpy>=1.0.1 in /Users/sanjay/Monash/Master_thesis/lab_work/Li_Lab/ProtPeptigram/.venv/lib/python3.12/site-packages (from matplotlib>=3.4.0->protpeptigram) (1.3.1)\n",
      "Requirement already satisfied: cycler>=0.10 in /Users/sanjay/Monash/Master_thesis/lab_work/Li_Lab/ProtPeptigram/.venv/lib/python3.12/site-packages (from matplotlib>=3.4.0->protpeptigram) (0.12.1)\n",
      "Requirement already satisfied: fonttools>=4.22.0 in /Users/sanjay/Monash/Master_thesis/lab_work/Li_Lab/ProtPeptigram/.venv/lib/python3.12/site-packages (from matplotlib>=3.4.0->protpeptigram) (4.56.0)\n",
      "Requirement already satisfied: kiwisolver>=1.3.1 in /Users/sanjay/Monash/Master_thesis/lab_work/Li_Lab/ProtPeptigram/.venv/lib/python3.12/site-packages (from matplotlib>=3.4.0->protpeptigram) (1.4.8)\n",
      "Requirement already satisfied: packaging>=20.0 in /Users/sanjay/Monash/Master_thesis/lab_work/Li_Lab/ProtPeptigram/.venv/lib/python3.12/site-packages (from matplotlib>=3.4.0->protpeptigram) (24.2)\n",
      "Requirement already satisfied: pillow>=8 in /Users/sanjay/Monash/Master_thesis/lab_work/Li_Lab/ProtPeptigram/.venv/lib/python3.12/site-packages (from matplotlib>=3.4.0->protpeptigram) (11.1.0)\n",
      "Requirement already satisfied: pyparsing>=2.3.1 in /Users/sanjay/Monash/Master_thesis/lab_work/Li_Lab/ProtPeptigram/.venv/lib/python3.12/site-packages (from matplotlib>=3.4.0->protpeptigram) (3.2.3)\n",
      "Requirement already satisfied: python-dateutil>=2.7 in /Users/sanjay/Monash/Master_thesis/lab_work/Li_Lab/ProtPeptigram/.venv/lib/python3.12/site-packages (from matplotlib>=3.4.0->protpeptigram) (2.9.0.post0)\n",
      "Requirement already satisfied: pytz>=2020.1 in /Users/sanjay/Monash/Master_thesis/lab_work/Li_Lab/ProtPeptigram/.venv/lib/python3.12/site-packages (from pandas>=1.3.0->protpeptigram) (2025.2)\n",
      "Requirement already satisfied: tzdata>=2022.7 in /Users/sanjay/Monash/Master_thesis/lab_work/Li_Lab/ProtPeptigram/.venv/lib/python3.12/site-packages (from pandas>=1.3.0->protpeptigram) (2025.2)\n",
      "Requirement already satisfied: six>=1.5 in /Users/sanjay/Monash/Master_thesis/lab_work/Li_Lab/ProtPeptigram/.venv/lib/python3.12/site-packages (from python-dateutil>=2.7->matplotlib>=3.4.0->protpeptigram) (1.17.0)\n",
      "Requirement already satisfied: markdown-it-py>=2.2.0 in /Users/sanjay/Monash/Master_thesis/lab_work/Li_Lab/ProtPeptigram/.venv/lib/python3.12/site-packages (from rich>=10.0.0->protpeptigram) (3.0.0)\n",
      "Requirement already satisfied: pygments<3.0.0,>=2.13.0 in /Users/sanjay/Monash/Master_thesis/lab_work/Li_Lab/ProtPeptigram/.venv/lib/python3.12/site-packages (from rich>=10.0.0->protpeptigram) (2.19.1)\n",
      "Requirement already satisfied: mdurl~=0.1 in /Users/sanjay/Monash/Master_thesis/lab_work/Li_Lab/ProtPeptigram/.venv/lib/python3.12/site-packages (from markdown-it-py>=2.2.0->rich>=10.0.0->protpeptigram) (0.1.2)\n"
     ]
    }
   ],
   "source": [
    "!pip install "
   ]
  },
  {
   "cell_type": "code",
   "execution_count": 3,
   "id": "7b733d59",
   "metadata": {},
   "outputs": [],
   "source": [
    "from ProtPeptigram.runner import run_pipeline"
   ]
  },
  {
   "cell_type": "code",
   "execution_count": 6,
   "id": "8f9f6384",
   "metadata": {},
   "outputs": [
    {
     "data": {
      "text/html": [
       "<pre style=\"white-space:pre;overflow-x:auto;line-height:normal;font-family:Menlo,'DejaVu Sans Mono',consolas,'Courier New',monospace\"><span style=\"color: #7fbfbf; text-decoration-color: #7fbfbf\">[16:45:42] </span><span style=\"color: #008000; text-decoration-color: #008000; font-weight: bold\">Loaded </span><span style=\"color: #008080; text-decoration-color: #008080; font-weight: bold\">17951</span><span style=\"color: #008000; text-decoration-color: #008000; font-weight: bold\"> peptide entries from ..</span><span style=\"color: #800080; text-decoration-color: #800080; font-weight: bold\">/data/</span><span style=\"color: #ff00ff; text-decoration-color: #ff00ff; font-weight: bold\">JCI146771_Mouse_peptides_peaks_online.csv</span><span style=\"color: #008000; text-decoration-color: #008000; font-weight: bold\"> </span> <a href=\"file:///Users/sanjay/Monash/Master_thesis/lab_work/Li_Lab/ProtPeptigram/ProtPeptigram/DataProcessor.py\" target=\"_blank\"><span style=\"color: #7f7f7f; text-decoration-color: #7f7f7f\">DataProcessor.py</span></a><span style=\"color: #7f7f7f; text-decoration-color: #7f7f7f\">:</span><a href=\"file:///Users/sanjay/Monash/Master_thesis/lab_work/Li_Lab/ProtPeptigram/ProtPeptigram/DataProcessor.py#79\" target=\"_blank\"><span style=\"color: #7f7f7f; text-decoration-color: #7f7f7f\">79</span></a>\n",
       "</pre>\n"
      ],
      "text/plain": [
       "\u001b[2;36m[16:45:42]\u001b[0m\u001b[2;36m \u001b[0m\u001b[1;32mLoaded \u001b[0m\u001b[1;36m17951\u001b[0m\u001b[1;32m peptide entries from ..\u001b[0m\u001b[1;35m/data/\u001b[0m\u001b[1;95mJCI146771_Mouse_peptides_peaks_online.csv\u001b[0m\u001b[1;32m \u001b[0m \u001b]8;id=30009;file:///Users/sanjay/Monash/Master_thesis/lab_work/Li_Lab/ProtPeptigram/ProtPeptigram/DataProcessor.py\u001b\\\u001b[2mDataProcessor.py\u001b[0m\u001b]8;;\u001b\\\u001b[2m:\u001b[0m\u001b]8;id=359641;file:///Users/sanjay/Monash/Master_thesis/lab_work/Li_Lab/ProtPeptigram/ProtPeptigram/DataProcessor.py#79\u001b\\\u001b[2m79\u001b[0m\u001b]8;;\u001b\\\n"
      ]
     },
     "metadata": {},
     "output_type": "display_data"
    },
    {
     "data": {
      "text/html": [
       "<pre style=\"white-space:pre;overflow-x:auto;line-height:normal;font-family:Menlo,'DejaVu Sans Mono',consolas,'Courier New',monospace\"><span style=\"color: #7fbfbf; text-decoration-color: #7fbfbf\">           </span><span style=\"color: #008000; text-decoration-color: #008000; font-weight: bold\">Found </span><span style=\"color: #008080; text-decoration-color: #008080; font-weight: bold\">6</span><span style=\"color: #008000; text-decoration-color: #008000; font-weight: bold\"> intensity columns: Intensity_hep_b10br_28-</span><span style=\"color: #008080; text-decoration-color: #008080; font-weight: bold\">14</span><span style=\"color: #008000; text-decoration-color: #008000; font-weight: bold\">-8s, Intensity_hep_b10br_k9-</span><span style=\"color: #008080; text-decoration-color: #008080; font-weight: bold\">178</span><span style=\"color: #008000; text-decoration-color: #008000; font-weight: bold\">,</span> <a href=\"file:///Users/sanjay/Monash/Master_thesis/lab_work/Li_Lab/ProtPeptigram/ProtPeptigram/DataProcessor.py\" target=\"_blank\"><span style=\"color: #7f7f7f; text-decoration-color: #7f7f7f\">DataProcessor.py</span></a><span style=\"color: #7f7f7f; text-decoration-color: #7f7f7f\">:</span><a href=\"file:///Users/sanjay/Monash/Master_thesis/lab_work/Li_Lab/ProtPeptigram/ProtPeptigram/DataProcessor.py#95\" target=\"_blank\"><span style=\"color: #7f7f7f; text-decoration-color: #7f7f7f\">95</span></a>\n",
       "<span style=\"color: #7fbfbf; text-decoration-color: #7fbfbf\">           </span><span style=\"color: #008000; text-decoration-color: #008000; font-weight: bold\">Intensity_178-</span><span style=\"color: #008080; text-decoration-color: #008080; font-weight: bold\">3</span><span style=\"color: #008000; text-decoration-color: #008000; font-weight: bold\"> skin graft_28-</span><span style=\"color: #008080; text-decoration-color: #008080; font-weight: bold\">14</span><span style=\"color: #008000; text-decoration-color: #008000; font-weight: bold\">-8s, Intensity_178-</span><span style=\"color: #008080; text-decoration-color: #008080; font-weight: bold\">3</span><span style=\"color: #008000; text-decoration-color: #008000; font-weight: bold\"> skin graft_k9-</span><span style=\"color: #008080; text-decoration-color: #008080; font-weight: bold\">178</span><span style=\"color: #008000; text-decoration-color: #008000; font-weight: bold\">,             </span> <span style=\"color: #7f7f7f; text-decoration-color: #7f7f7f\">                   </span>\n",
       "<span style=\"color: #7fbfbf; text-decoration-color: #7fbfbf\">           </span><span style=\"color: #008000; text-decoration-color: #008000; font-weight: bold\">Intensity_178-</span><span style=\"color: #008080; text-decoration-color: #008080; font-weight: bold\">3</span><span style=\"color: #008000; text-decoration-color: #008000; font-weight: bold\"> spleen_k9-</span><span style=\"color: #008080; text-decoration-color: #008080; font-weight: bold\">178</span><span style=\"color: #008000; text-decoration-color: #008000; font-weight: bold\">, Intensity_178-</span><span style=\"color: #008080; text-decoration-color: #008080; font-weight: bold\">3</span><span style=\"color: #008000; text-decoration-color: #008000; font-weight: bold\"> spleen_y-</span><span style=\"color: #008080; text-decoration-color: #008080; font-weight: bold\">3</span><span style=\"color: #008000; text-decoration-color: #008000; font-weight: bold\">                           </span> <span style=\"color: #7f7f7f; text-decoration-color: #7f7f7f\">                   </span>\n",
       "</pre>\n"
      ],
      "text/plain": [
       "\u001b[2;36m          \u001b[0m\u001b[2;36m \u001b[0m\u001b[1;32mFound \u001b[0m\u001b[1;36m6\u001b[0m\u001b[1;32m intensity columns: Intensity_hep_b10br_28-\u001b[0m\u001b[1;36m14\u001b[0m\u001b[1;32m-8s, Intensity_hep_b10br_k9-\u001b[0m\u001b[1;36m178\u001b[0m\u001b[1;32m,\u001b[0m \u001b]8;id=475910;file:///Users/sanjay/Monash/Master_thesis/lab_work/Li_Lab/ProtPeptigram/ProtPeptigram/DataProcessor.py\u001b\\\u001b[2mDataProcessor.py\u001b[0m\u001b]8;;\u001b\\\u001b[2m:\u001b[0m\u001b]8;id=24518;file:///Users/sanjay/Monash/Master_thesis/lab_work/Li_Lab/ProtPeptigram/ProtPeptigram/DataProcessor.py#95\u001b\\\u001b[2m95\u001b[0m\u001b]8;;\u001b\\\n",
       "\u001b[2;36m           \u001b[0m\u001b[1;32mIntensity_178-\u001b[0m\u001b[1;36m3\u001b[0m\u001b[1;32m skin graft_28-\u001b[0m\u001b[1;36m14\u001b[0m\u001b[1;32m-8s, Intensity_178-\u001b[0m\u001b[1;36m3\u001b[0m\u001b[1;32m skin graft_k9-\u001b[0m\u001b[1;36m178\u001b[0m\u001b[1;32m,             \u001b[0m \u001b[2m                   \u001b[0m\n",
       "\u001b[2;36m           \u001b[0m\u001b[1;32mIntensity_178-\u001b[0m\u001b[1;36m3\u001b[0m\u001b[1;32m spleen_k9-\u001b[0m\u001b[1;36m178\u001b[0m\u001b[1;32m, Intensity_178-\u001b[0m\u001b[1;36m3\u001b[0m\u001b[1;32m spleen_y-\u001b[0m\u001b[1;36m3\u001b[0m\u001b[1;32m                           \u001b[0m \u001b[2m                   \u001b[0m\n"
      ]
     },
     "metadata": {},
     "output_type": "display_data"
    },
    {
     "data": {
      "text/html": [
       "<pre style=\"white-space:pre;overflow-x:auto;line-height:normal;font-family:Menlo,'DejaVu Sans Mono',consolas,'Courier New',monospace\"><span style=\"color: #7fbfbf; text-decoration-color: #7fbfbf\">           </span><span style=\"color: #008000; text-decoration-color: #008000; font-weight: bold\">Loaded </span><span style=\"color: #008080; text-decoration-color: #008080; font-weight: bold\">34444</span><span style=\"color: #008000; text-decoration-color: #008000; font-weight: bold\"> protein sequences from                                                </span> <a href=\"file:///Users/sanjay/Monash/Master_thesis/lab_work/Li_Lab/ProtPeptigram/ProtPeptigram/DataProcessor.py\" target=\"_blank\"><span style=\"color: #7f7f7f; text-decoration-color: #7f7f7f\">DataProcessor.py</span></a><span style=\"color: #7f7f7f; text-decoration-color: #7f7f7f\">:</span><a href=\"file:///Users/sanjay/Monash/Master_thesis/lab_work/Li_Lab/ProtPeptigram/ProtPeptigram/DataProcessor.py#127\" target=\"_blank\"><span style=\"color: #7f7f7f; text-decoration-color: #7f7f7f\">127</span></a>\n",
       "<span style=\"color: #7fbfbf; text-decoration-color: #7fbfbf\">           </span><span style=\"color: #008000; text-decoration-color: #008000; font-weight: bold\">..</span><span style=\"color: #800080; text-decoration-color: #800080; font-weight: bold\">/data/</span><span style=\"color: #ff00ff; text-decoration-color: #ff00ff; font-weight: bold\">uniprotkb_proteome_UP000000589_AND_revi_2025_03_12.fasta</span><span style=\"color: #008000; text-decoration-color: #008000; font-weight: bold\">                   </span> <span style=\"color: #7f7f7f; text-decoration-color: #7f7f7f\">                    </span>\n",
       "</pre>\n"
      ],
      "text/plain": [
       "\u001b[2;36m          \u001b[0m\u001b[2;36m \u001b[0m\u001b[1;32mLoaded \u001b[0m\u001b[1;36m34444\u001b[0m\u001b[1;32m protein sequences from                                                \u001b[0m \u001b]8;id=981031;file:///Users/sanjay/Monash/Master_thesis/lab_work/Li_Lab/ProtPeptigram/ProtPeptigram/DataProcessor.py\u001b\\\u001b[2mDataProcessor.py\u001b[0m\u001b]8;;\u001b\\\u001b[2m:\u001b[0m\u001b]8;id=949742;file:///Users/sanjay/Monash/Master_thesis/lab_work/Li_Lab/ProtPeptigram/ProtPeptigram/DataProcessor.py#127\u001b\\\u001b[2m127\u001b[0m\u001b]8;;\u001b\\\n",
       "\u001b[2;36m           \u001b[0m\u001b[1;32m..\u001b[0m\u001b[1;35m/data/\u001b[0m\u001b[1;95muniprotkb_proteome_UP000000589_AND_revi_2025_03_12.fasta\u001b[0m\u001b[1;32m                   \u001b[0m \u001b[2m                    \u001b[0m\n"
      ]
     },
     "metadata": {},
     "output_type": "display_data"
    },
    {
     "data": {
      "text/html": [
       "<pre style=\"white-space:pre;overflow-x:auto;line-height:normal;font-family:Menlo,'DejaVu Sans Mono',consolas,'Courier New',monospace\"><span style=\"color: #7fbfbf; text-decoration-color: #7fbfbf\">           </span><span style=\"color: #008000; text-decoration-color: #008000; font-weight: bold\">Removed </span><span style=\"color: #008080; text-decoration-color: #008080; font-weight: bold\">692</span><span style=\"color: #008000; text-decoration-color: #008000; font-weight: bold\"> contaminant entries                                                    </span> <a href=\"file:///Users/sanjay/Monash/Master_thesis/lab_work/Li_Lab/ProtPeptigram/ProtPeptigram/DataProcessor.py\" target=\"_blank\"><span style=\"color: #7f7f7f; text-decoration-color: #7f7f7f\">DataProcessor.py</span></a><span style=\"color: #7f7f7f; text-decoration-color: #7f7f7f\">:</span><a href=\"file:///Users/sanjay/Monash/Master_thesis/lab_work/Li_Lab/ProtPeptigram/ProtPeptigram/DataProcessor.py#305\" target=\"_blank\"><span style=\"color: #7f7f7f; text-decoration-color: #7f7f7f\">305</span></a>\n",
       "</pre>\n"
      ],
      "text/plain": [
       "\u001b[2;36m          \u001b[0m\u001b[2;36m \u001b[0m\u001b[1;32mRemoved \u001b[0m\u001b[1;36m692\u001b[0m\u001b[1;32m contaminant entries                                                    \u001b[0m \u001b]8;id=932828;file:///Users/sanjay/Monash/Master_thesis/lab_work/Li_Lab/ProtPeptigram/ProtPeptigram/DataProcessor.py\u001b\\\u001b[2mDataProcessor.py\u001b[0m\u001b]8;;\u001b\\\u001b[2m:\u001b[0m\u001b]8;id=493669;file:///Users/sanjay/Monash/Master_thesis/lab_work/Li_Lab/ProtPeptigram/ProtPeptigram/DataProcessor.py#305\u001b\\\u001b[2m305\u001b[0m\u001b]8;;\u001b\\\n"
      ]
     },
     "metadata": {},
     "output_type": "display_data"
    },
    {
     "data": {
      "text/html": [
       "<pre style=\"white-space:pre;overflow-x:auto;line-height:normal;font-family:Menlo,'DejaVu Sans Mono',consolas,'Courier New',monospace\"></pre>\n"
      ],
      "text/plain": []
     },
     "metadata": {},
     "output_type": "display_data"
    },
    {
     "data": {
      "text/html": [
       "<pre style=\"white-space:pre;overflow-x:auto;line-height:normal;font-family:Menlo,'DejaVu Sans Mono',consolas,'Courier New',monospace\"><span style=\"color: #7fbfbf; text-decoration-color: #7fbfbf\">[16:45:59] </span><span style=\"color: #008000; text-decoration-color: #008000; font-weight: bold\">Created formatted data with </span><span style=\"color: #008080; text-decoration-color: #008080; font-weight: bold\">9830</span><span style=\"color: #008000; text-decoration-color: #008000; font-weight: bold\"> peptide-protein-sample combinations               </span> <a href=\"file:///Users/sanjay/Monash/Master_thesis/lab_work/Li_Lab/ProtPeptigram/ProtPeptigram/DataProcessor.py\" target=\"_blank\"><span style=\"color: #7f7f7f; text-decoration-color: #7f7f7f\">DataProcessor.py</span></a><span style=\"color: #7f7f7f; text-decoration-color: #7f7f7f\">:</span><a href=\"file:///Users/sanjay/Monash/Master_thesis/lab_work/Li_Lab/ProtPeptigram/ProtPeptigram/DataProcessor.py#359\" target=\"_blank\"><span style=\"color: #7f7f7f; text-decoration-color: #7f7f7f\">359</span></a>\n",
       "</pre>\n"
      ],
      "text/plain": [
       "\u001b[2;36m[16:45:59]\u001b[0m\u001b[2;36m \u001b[0m\u001b[1;32mCreated formatted data with \u001b[0m\u001b[1;36m9830\u001b[0m\u001b[1;32m peptide-protein-sample combinations               \u001b[0m \u001b]8;id=900;file:///Users/sanjay/Monash/Master_thesis/lab_work/Li_Lab/ProtPeptigram/ProtPeptigram/DataProcessor.py\u001b\\\u001b[2mDataProcessor.py\u001b[0m\u001b]8;;\u001b\\\u001b[2m:\u001b[0m\u001b]8;id=586533;file:///Users/sanjay/Monash/Master_thesis/lab_work/Li_Lab/ProtPeptigram/ProtPeptigram/DataProcessor.py#359\u001b\\\u001b[2m359\u001b[0m\u001b]8;;\u001b\\\n"
      ]
     },
     "metadata": {},
     "output_type": "display_data"
    },
    {
     "data": {
      "text/html": [
       "<pre style=\"white-space:pre;overflow-x:auto;line-height:normal;font-family:Menlo,'DejaVu Sans Mono',consolas,'Courier New',monospace\"><span style=\"color: #7fbfbf; text-decoration-color: #7fbfbf\">           </span><span style=\"color: #808000; text-decoration-color: #808000; font-weight: bold\">PTMs were removed for position finding. Original peptides preserved in </span><span style=\"color: #008000; text-decoration-color: #008000\">'Peptide'</span><span style=\"color: #808000; text-decoration-color: #808000; font-weight: bold\">   </span> <a href=\"file:///Users/sanjay/Monash/Master_thesis/lab_work/Li_Lab/ProtPeptigram/ProtPeptigram/DataProcessor.py\" target=\"_blank\"><span style=\"color: #7f7f7f; text-decoration-color: #7f7f7f\">DataProcessor.py</span></a><span style=\"color: #7f7f7f; text-decoration-color: #7f7f7f\">:</span><a href=\"file:///Users/sanjay/Monash/Master_thesis/lab_work/Li_Lab/ProtPeptigram/ProtPeptigram/DataProcessor.py#360\" target=\"_blank\"><span style=\"color: #7f7f7f; text-decoration-color: #7f7f7f\">360</span></a>\n",
       "<span style=\"color: #7fbfbf; text-decoration-color: #7fbfbf\">           </span><span style=\"color: #808000; text-decoration-color: #808000; font-weight: bold\">column, clean versions in </span><span style=\"color: #008000; text-decoration-color: #008000\">'CleanPeptide'</span><span style=\"color: #808000; text-decoration-color: #808000; font-weight: bold\"> column.                                   </span> <span style=\"color: #7f7f7f; text-decoration-color: #7f7f7f\">                    </span>\n",
       "</pre>\n"
      ],
      "text/plain": [
       "\u001b[2;36m          \u001b[0m\u001b[2;36m \u001b[0m\u001b[1;33mPTMs were removed for position finding. Original peptides preserved in \u001b[0m\u001b[32m'Peptide'\u001b[0m\u001b[1;33m   \u001b[0m \u001b]8;id=168619;file:///Users/sanjay/Monash/Master_thesis/lab_work/Li_Lab/ProtPeptigram/ProtPeptigram/DataProcessor.py\u001b\\\u001b[2mDataProcessor.py\u001b[0m\u001b]8;;\u001b\\\u001b[2m:\u001b[0m\u001b]8;id=760742;file:///Users/sanjay/Monash/Master_thesis/lab_work/Li_Lab/ProtPeptigram/ProtPeptigram/DataProcessor.py#360\u001b\\\u001b[2m360\u001b[0m\u001b]8;;\u001b\\\n",
       "\u001b[2;36m           \u001b[0m\u001b[1;33mcolumn, clean versions in \u001b[0m\u001b[32m'CleanPeptide'\u001b[0m\u001b[1;33m column.                                   \u001b[0m \u001b[2m                    \u001b[0m\n"
      ]
     },
     "metadata": {},
     "output_type": "display_data"
    },
    {
     "data": {
      "text/html": [
       "<pre style=\"white-space:pre;overflow-x:auto;line-height:normal;font-family:Menlo,'DejaVu Sans Mono',consolas,'Courier New',monospace\"><span style=\"color: #7fbfbf; text-decoration-color: #7fbfbf\">           </span><span style=\"color: #008000; text-decoration-color: #008000; font-weight: bold\">Number of unique proteins: </span><span style=\"color: #008080; text-decoration-color: #008080; font-weight: bold\">3349</span><span style=\"color: #008000; text-decoration-color: #008000; font-weight: bold\">                                                           </span> <a href=\"file:///Users/sanjay/Monash/Master_thesis/lab_work/Li_Lab/ProtPeptigram/ProtPeptigram/runner.py\" target=\"_blank\"><span style=\"color: #7f7f7f; text-decoration-color: #7f7f7f\">runner.py</span></a><span style=\"color: #7f7f7f; text-decoration-color: #7f7f7f\">:</span><a href=\"file:///Users/sanjay/Monash/Master_thesis/lab_work/Li_Lab/ProtPeptigram/ProtPeptigram/runner.py#175\" target=\"_blank\"><span style=\"color: #7f7f7f; text-decoration-color: #7f7f7f\">175</span></a>\n",
       "</pre>\n"
      ],
      "text/plain": [
       "\u001b[2;36m          \u001b[0m\u001b[2;36m \u001b[0m\u001b[1;32mNumber of unique proteins: \u001b[0m\u001b[1;36m3349\u001b[0m\u001b[1;32m                                                           \u001b[0m \u001b]8;id=928160;file:///Users/sanjay/Monash/Master_thesis/lab_work/Li_Lab/ProtPeptigram/ProtPeptigram/runner.py\u001b\\\u001b[2mrunner.py\u001b[0m\u001b]8;;\u001b\\\u001b[2m:\u001b[0m\u001b]8;id=717785;file:///Users/sanjay/Monash/Master_thesis/lab_work/Li_Lab/ProtPeptigram/ProtPeptigram/runner.py#175\u001b\\\u001b[2m175\u001b[0m\u001b]8;;\u001b\\\n"
      ]
     },
     "metadata": {},
     "output_type": "display_data"
    },
    {
     "data": {
      "text/html": [
       "<pre style=\"white-space:pre;overflow-x:auto;line-height:normal;font-family:Menlo,'DejaVu Sans Mono',consolas,'Courier New',monospace\"><span style=\"color: #7fbfbf; text-decoration-color: #7fbfbf\">           </span><span style=\"font-weight: bold\">Unique samples: [</span><span style=\"color: #008000; text-decoration-color: #008000\">'178-3 skin graft_28-14-8s'</span><span style=\"font-weight: bold\">, </span><span style=\"color: #008000; text-decoration-color: #008000\">'178-3 skin graft_k9-178'</span><span style=\"font-weight: bold\">, </span><span style=\"color: #008000; text-decoration-color: #008000\">'178-3 </span><span style=\"font-weight: bold\">          </span> <a href=\"file:///Users/sanjay/Monash/Master_thesis/lab_work/Li_Lab/ProtPeptigram/ProtPeptigram/runner.py\" target=\"_blank\"><span style=\"color: #7f7f7f; text-decoration-color: #7f7f7f\">runner.py</span></a><span style=\"color: #7f7f7f; text-decoration-color: #7f7f7f\">:</span><a href=\"file:///Users/sanjay/Monash/Master_thesis/lab_work/Li_Lab/ProtPeptigram/ProtPeptigram/runner.py#176\" target=\"_blank\"><span style=\"color: #7f7f7f; text-decoration-color: #7f7f7f\">176</span></a>\n",
       "<span style=\"color: #7fbfbf; text-decoration-color: #7fbfbf\">           </span><span style=\"color: #008000; text-decoration-color: #008000\">spleen_k9-178'</span><span style=\"font-weight: bold\">, </span><span style=\"color: #008000; text-decoration-color: #008000\">'178-3 spleen_y-3'</span><span style=\"font-weight: bold\">, </span><span style=\"color: #008000; text-decoration-color: #008000\">'hep_b10br_28-14-8s'</span><span style=\"font-weight: bold\">, </span><span style=\"color: #008000; text-decoration-color: #008000\">'hep_b10br_k9-178'</span><span style=\"font-weight: bold\">]             </span> <span style=\"color: #7f7f7f; text-decoration-color: #7f7f7f\">             </span>\n",
       "</pre>\n"
      ],
      "text/plain": [
       "\u001b[2;36m          \u001b[0m\u001b[2;36m \u001b[0m\u001b[1mUnique samples: \u001b[0m\u001b[1m[\u001b[0m\u001b[32m'178-3 skin graft_28-14-8s'\u001b[0m\u001b[1m, \u001b[0m\u001b[32m'178-3 skin graft_k9-178'\u001b[0m\u001b[1m, \u001b[0m\u001b[32m'178-3 \u001b[0m\u001b[1m          \u001b[0m \u001b]8;id=859687;file:///Users/sanjay/Monash/Master_thesis/lab_work/Li_Lab/ProtPeptigram/ProtPeptigram/runner.py\u001b\\\u001b[2mrunner.py\u001b[0m\u001b]8;;\u001b\\\u001b[2m:\u001b[0m\u001b]8;id=926403;file:///Users/sanjay/Monash/Master_thesis/lab_work/Li_Lab/ProtPeptigram/ProtPeptigram/runner.py#176\u001b\\\u001b[2m176\u001b[0m\u001b]8;;\u001b\\\n",
       "\u001b[2;36m           \u001b[0m\u001b[32mspleen_k9-178'\u001b[0m\u001b[1m, \u001b[0m\u001b[32m'178-3 spleen_y-3'\u001b[0m\u001b[1m, \u001b[0m\u001b[32m'hep_b10br_28-14-8s'\u001b[0m\u001b[1m, \u001b[0m\u001b[32m'hep_b10br_k9-178'\u001b[0m\u001b[1m]\u001b[0m\u001b[1m             \u001b[0m \u001b[2m             \u001b[0m\n"
      ]
     },
     "metadata": {},
     "output_type": "display_data"
    },
    {
     "data": {
      "text/html": [
       "<pre style=\"white-space:pre;overflow-x:auto;line-height:normal;font-family:Menlo,'DejaVu Sans Mono',consolas,'Courier New',monospace\"><span style=\"color: #7fbfbf; text-decoration-color: #7fbfbf\">           </span><span style=\"font-weight: bold\">Selected </span><span style=\"color: #008080; text-decoration-color: #008080; font-weight: bold\">5</span><span style=\"font-weight: bold\"> proteins with highest peptide counts:                                           </span> <a href=\"file:///Users/sanjay/Monash/Master_thesis/lab_work/Li_Lab/ProtPeptigram/ProtPeptigram/runner.py\" target=\"_blank\"><span style=\"color: #7f7f7f; text-decoration-color: #7f7f7f\">runner.py</span></a><span style=\"color: #7f7f7f; text-decoration-color: #7f7f7f\">:</span><a href=\"file:///Users/sanjay/Monash/Master_thesis/lab_work/Li_Lab/ProtPeptigram/ProtPeptigram/runner.py#44\" target=\"_blank\"><span style=\"color: #7f7f7f; text-decoration-color: #7f7f7f\">44</span></a>\n",
       "</pre>\n"
      ],
      "text/plain": [
       "\u001b[2;36m          \u001b[0m\u001b[2;36m \u001b[0m\u001b[1mSelected \u001b[0m\u001b[1;36m5\u001b[0m\u001b[1m proteins with highest peptide counts:                                           \u001b[0m \u001b]8;id=282060;file:///Users/sanjay/Monash/Master_thesis/lab_work/Li_Lab/ProtPeptigram/ProtPeptigram/runner.py\u001b\\\u001b[2mrunner.py\u001b[0m\u001b]8;;\u001b\\\u001b[2m:\u001b[0m\u001b]8;id=370768;file:///Users/sanjay/Monash/Master_thesis/lab_work/Li_Lab/ProtPeptigram/ProtPeptigram/runner.py#44\u001b\\\u001b[2m44\u001b[0m\u001b]8;;\u001b\\\n"
      ]
     },
     "metadata": {},
     "output_type": "display_data"
    },
    {
     "data": {
      "text/html": [
       "<pre style=\"white-space:pre;overflow-x:auto;line-height:normal;font-family:Menlo,'DejaVu Sans Mono',consolas,'Courier New',monospace\"><span style=\"color: #7fbfbf; text-decoration-color: #7fbfbf\">           </span><span style=\"font-weight: bold\">  P20152: </span><span style=\"color: #008080; text-decoration-color: #008080; font-weight: bold\">45</span><span style=\"font-weight: bold\"> peptides                                                                      </span> <a href=\"file:///Users/sanjay/Monash/Master_thesis/lab_work/Li_Lab/ProtPeptigram/ProtPeptigram/runner.py\" target=\"_blank\"><span style=\"color: #7f7f7f; text-decoration-color: #7f7f7f\">runner.py</span></a><span style=\"color: #7f7f7f; text-decoration-color: #7f7f7f\">:</span><a href=\"file:///Users/sanjay/Monash/Master_thesis/lab_work/Li_Lab/ProtPeptigram/ProtPeptigram/runner.py#47\" target=\"_blank\"><span style=\"color: #7f7f7f; text-decoration-color: #7f7f7f\">47</span></a>\n",
       "</pre>\n"
      ],
      "text/plain": [
       "\u001b[2;36m          \u001b[0m\u001b[2;36m \u001b[0m\u001b[1m  P20152: \u001b[0m\u001b[1;36m45\u001b[0m\u001b[1m peptides                                                                      \u001b[0m \u001b]8;id=371100;file:///Users/sanjay/Monash/Master_thesis/lab_work/Li_Lab/ProtPeptigram/ProtPeptigram/runner.py\u001b\\\u001b[2mrunner.py\u001b[0m\u001b]8;;\u001b\\\u001b[2m:\u001b[0m\u001b]8;id=130971;file:///Users/sanjay/Monash/Master_thesis/lab_work/Li_Lab/ProtPeptigram/ProtPeptigram/runner.py#47\u001b\\\u001b[2m47\u001b[0m\u001b]8;;\u001b\\\n"
      ]
     },
     "metadata": {},
     "output_type": "display_data"
    },
    {
     "data": {
      "text/html": [
       "<pre style=\"white-space:pre;overflow-x:auto;line-height:normal;font-family:Menlo,'DejaVu Sans Mono',consolas,'Courier New',monospace\"><span style=\"color: #7fbfbf; text-decoration-color: #7fbfbf\">           </span><span style=\"font-weight: bold\">  P32261: </span><span style=\"color: #008080; text-decoration-color: #008080; font-weight: bold\">40</span><span style=\"font-weight: bold\"> peptides                                                                      </span> <a href=\"file:///Users/sanjay/Monash/Master_thesis/lab_work/Li_Lab/ProtPeptigram/ProtPeptigram/runner.py\" target=\"_blank\"><span style=\"color: #7f7f7f; text-decoration-color: #7f7f7f\">runner.py</span></a><span style=\"color: #7f7f7f; text-decoration-color: #7f7f7f\">:</span><a href=\"file:///Users/sanjay/Monash/Master_thesis/lab_work/Li_Lab/ProtPeptigram/ProtPeptigram/runner.py#47\" target=\"_blank\"><span style=\"color: #7f7f7f; text-decoration-color: #7f7f7f\">47</span></a>\n",
       "</pre>\n"
      ],
      "text/plain": [
       "\u001b[2;36m          \u001b[0m\u001b[2;36m \u001b[0m\u001b[1m  P32261: \u001b[0m\u001b[1;36m40\u001b[0m\u001b[1m peptides                                                                      \u001b[0m \u001b]8;id=12051;file:///Users/sanjay/Monash/Master_thesis/lab_work/Li_Lab/ProtPeptigram/ProtPeptigram/runner.py\u001b\\\u001b[2mrunner.py\u001b[0m\u001b]8;;\u001b\\\u001b[2m:\u001b[0m\u001b]8;id=711694;file:///Users/sanjay/Monash/Master_thesis/lab_work/Li_Lab/ProtPeptigram/ProtPeptigram/runner.py#47\u001b\\\u001b[2m47\u001b[0m\u001b]8;;\u001b\\\n"
      ]
     },
     "metadata": {},
     "output_type": "display_data"
    },
    {
     "data": {
      "text/html": [
       "<pre style=\"white-space:pre;overflow-x:auto;line-height:normal;font-family:Menlo,'DejaVu Sans Mono',consolas,'Courier New',monospace\"><span style=\"color: #7fbfbf; text-decoration-color: #7fbfbf\">           </span><span style=\"font-weight: bold\">  P63260: </span><span style=\"color: #008080; text-decoration-color: #008080; font-weight: bold\">38</span><span style=\"font-weight: bold\"> peptides                                                                      </span> <a href=\"file:///Users/sanjay/Monash/Master_thesis/lab_work/Li_Lab/ProtPeptigram/ProtPeptigram/runner.py\" target=\"_blank\"><span style=\"color: #7f7f7f; text-decoration-color: #7f7f7f\">runner.py</span></a><span style=\"color: #7f7f7f; text-decoration-color: #7f7f7f\">:</span><a href=\"file:///Users/sanjay/Monash/Master_thesis/lab_work/Li_Lab/ProtPeptigram/ProtPeptigram/runner.py#47\" target=\"_blank\"><span style=\"color: #7f7f7f; text-decoration-color: #7f7f7f\">47</span></a>\n",
       "</pre>\n"
      ],
      "text/plain": [
       "\u001b[2;36m          \u001b[0m\u001b[2;36m \u001b[0m\u001b[1m  P63260: \u001b[0m\u001b[1;36m38\u001b[0m\u001b[1m peptides                                                                      \u001b[0m \u001b]8;id=737420;file:///Users/sanjay/Monash/Master_thesis/lab_work/Li_Lab/ProtPeptigram/ProtPeptigram/runner.py\u001b\\\u001b[2mrunner.py\u001b[0m\u001b]8;;\u001b\\\u001b[2m:\u001b[0m\u001b]8;id=364114;file:///Users/sanjay/Monash/Master_thesis/lab_work/Li_Lab/ProtPeptigram/ProtPeptigram/runner.py#47\u001b\\\u001b[2m47\u001b[0m\u001b]8;;\u001b\\\n"
      ]
     },
     "metadata": {},
     "output_type": "display_data"
    },
    {
     "data": {
      "text/html": [
       "<pre style=\"white-space:pre;overflow-x:auto;line-height:normal;font-family:Menlo,'DejaVu Sans Mono',consolas,'Courier New',monospace\"><span style=\"color: #7fbfbf; text-decoration-color: #7fbfbf\">           </span><span style=\"font-weight: bold\">  P60710: </span><span style=\"color: #008080; text-decoration-color: #008080; font-weight: bold\">38</span><span style=\"font-weight: bold\"> peptides                                                                      </span> <a href=\"file:///Users/sanjay/Monash/Master_thesis/lab_work/Li_Lab/ProtPeptigram/ProtPeptigram/runner.py\" target=\"_blank\"><span style=\"color: #7f7f7f; text-decoration-color: #7f7f7f\">runner.py</span></a><span style=\"color: #7f7f7f; text-decoration-color: #7f7f7f\">:</span><a href=\"file:///Users/sanjay/Monash/Master_thesis/lab_work/Li_Lab/ProtPeptigram/ProtPeptigram/runner.py#47\" target=\"_blank\"><span style=\"color: #7f7f7f; text-decoration-color: #7f7f7f\">47</span></a>\n",
       "</pre>\n"
      ],
      "text/plain": [
       "\u001b[2;36m          \u001b[0m\u001b[2;36m \u001b[0m\u001b[1m  P60710: \u001b[0m\u001b[1;36m38\u001b[0m\u001b[1m peptides                                                                      \u001b[0m \u001b]8;id=54668;file:///Users/sanjay/Monash/Master_thesis/lab_work/Li_Lab/ProtPeptigram/ProtPeptigram/runner.py\u001b\\\u001b[2mrunner.py\u001b[0m\u001b]8;;\u001b\\\u001b[2m:\u001b[0m\u001b]8;id=400045;file:///Users/sanjay/Monash/Master_thesis/lab_work/Li_Lab/ProtPeptigram/ProtPeptigram/runner.py#47\u001b\\\u001b[2m47\u001b[0m\u001b]8;;\u001b\\\n"
      ]
     },
     "metadata": {},
     "output_type": "display_data"
    },
    {
     "data": {
      "text/html": [
       "<pre style=\"white-space:pre;overflow-x:auto;line-height:normal;font-family:Menlo,'DejaVu Sans Mono',consolas,'Courier New',monospace\"><span style=\"color: #7fbfbf; text-decoration-color: #7fbfbf\">           </span><span style=\"font-weight: bold\">  P43274: </span><span style=\"color: #008080; text-decoration-color: #008080; font-weight: bold\">37</span><span style=\"font-weight: bold\"> peptides                                                                      </span> <a href=\"file:///Users/sanjay/Monash/Master_thesis/lab_work/Li_Lab/ProtPeptigram/ProtPeptigram/runner.py\" target=\"_blank\"><span style=\"color: #7f7f7f; text-decoration-color: #7f7f7f\">runner.py</span></a><span style=\"color: #7f7f7f; text-decoration-color: #7f7f7f\">:</span><a href=\"file:///Users/sanjay/Monash/Master_thesis/lab_work/Li_Lab/ProtPeptigram/ProtPeptigram/runner.py#47\" target=\"_blank\"><span style=\"color: #7f7f7f; text-decoration-color: #7f7f7f\">47</span></a>\n",
       "</pre>\n"
      ],
      "text/plain": [
       "\u001b[2;36m          \u001b[0m\u001b[2;36m \u001b[0m\u001b[1m  P43274: \u001b[0m\u001b[1;36m37\u001b[0m\u001b[1m peptides                                                                      \u001b[0m \u001b]8;id=172482;file:///Users/sanjay/Monash/Master_thesis/lab_work/Li_Lab/ProtPeptigram/ProtPeptigram/runner.py\u001b\\\u001b[2mrunner.py\u001b[0m\u001b]8;;\u001b\\\u001b[2m:\u001b[0m\u001b]8;id=164660;file:///Users/sanjay/Monash/Master_thesis/lab_work/Li_Lab/ProtPeptigram/ProtPeptigram/runner.py#47\u001b\\\u001b[2m47\u001b[0m\u001b]8;;\u001b\\\n"
      ]
     },
     "metadata": {},
     "output_type": "display_data"
    },
    {
     "data": {
      "text/html": [
       "<pre style=\"white-space:pre;overflow-x:auto;line-height:normal;font-family:Menlo,'DejaVu Sans Mono',consolas,'Courier New',monospace\"><span style=\"color: #7fbfbf; text-decoration-color: #7fbfbf\">[16:46:00] </span><span style=\"font-weight: bold\">PeptiGram for P20152 saved to ..</span><span style=\"color: #800080; text-decoration-color: #800080; font-weight: bold\">/test_outputAPI/</span><span style=\"color: #ff00ff; text-decoration-color: #ff00ff; font-weight: bold\">prot-peptigram_P20152.png</span><span style=\"font-weight: bold\">                 </span> <a href=\"file:///Users/sanjay/Monash/Master_thesis/lab_work/Li_Lab/ProtPeptigram/ProtPeptigram/runner.py\" target=\"_blank\"><span style=\"color: #7f7f7f; text-decoration-color: #7f7f7f\">runner.py</span></a><span style=\"color: #7f7f7f; text-decoration-color: #7f7f7f\">:</span><a href=\"file:///Users/sanjay/Monash/Master_thesis/lab_work/Li_Lab/ProtPeptigram/ProtPeptigram/runner.py#222\" target=\"_blank\"><span style=\"color: #7f7f7f; text-decoration-color: #7f7f7f\">222</span></a>\n",
       "</pre>\n"
      ],
      "text/plain": [
       "\u001b[2;36m[16:46:00]\u001b[0m\u001b[2;36m \u001b[0m\u001b[1mPeptiGram for P20152 saved to ..\u001b[0m\u001b[1;35m/test_outputAPI/\u001b[0m\u001b[1;95mprot-peptigram_P20152.png\u001b[0m\u001b[1m                 \u001b[0m \u001b]8;id=687705;file:///Users/sanjay/Monash/Master_thesis/lab_work/Li_Lab/ProtPeptigram/ProtPeptigram/runner.py\u001b\\\u001b[2mrunner.py\u001b[0m\u001b]8;;\u001b\\\u001b[2m:\u001b[0m\u001b]8;id=472298;file:///Users/sanjay/Monash/Master_thesis/lab_work/Li_Lab/ProtPeptigram/ProtPeptigram/runner.py#222\u001b\\\u001b[2m222\u001b[0m\u001b]8;;\u001b\\\n"
      ]
     },
     "metadata": {},
     "output_type": "display_data"
    },
    {
     "data": {
      "text/html": [
       "<pre style=\"white-space:pre;overflow-x:auto;line-height:normal;font-family:Menlo,'DejaVu Sans Mono',consolas,'Courier New',monospace\"><span style=\"color: #7fbfbf; text-decoration-color: #7fbfbf\">[16:46:01] </span><span style=\"font-weight: bold\">PeptiGram for P32261 saved to ..</span><span style=\"color: #800080; text-decoration-color: #800080; font-weight: bold\">/test_outputAPI/</span><span style=\"color: #ff00ff; text-decoration-color: #ff00ff; font-weight: bold\">prot-peptigram_P32261.png</span><span style=\"font-weight: bold\">                 </span> <a href=\"file:///Users/sanjay/Monash/Master_thesis/lab_work/Li_Lab/ProtPeptigram/ProtPeptigram/runner.py\" target=\"_blank\"><span style=\"color: #7f7f7f; text-decoration-color: #7f7f7f\">runner.py</span></a><span style=\"color: #7f7f7f; text-decoration-color: #7f7f7f\">:</span><a href=\"file:///Users/sanjay/Monash/Master_thesis/lab_work/Li_Lab/ProtPeptigram/ProtPeptigram/runner.py#222\" target=\"_blank\"><span style=\"color: #7f7f7f; text-decoration-color: #7f7f7f\">222</span></a>\n",
       "</pre>\n"
      ],
      "text/plain": [
       "\u001b[2;36m[16:46:01]\u001b[0m\u001b[2;36m \u001b[0m\u001b[1mPeptiGram for P32261 saved to ..\u001b[0m\u001b[1;35m/test_outputAPI/\u001b[0m\u001b[1;95mprot-peptigram_P32261.png\u001b[0m\u001b[1m                 \u001b[0m \u001b]8;id=425472;file:///Users/sanjay/Monash/Master_thesis/lab_work/Li_Lab/ProtPeptigram/ProtPeptigram/runner.py\u001b\\\u001b[2mrunner.py\u001b[0m\u001b]8;;\u001b\\\u001b[2m:\u001b[0m\u001b]8;id=20110;file:///Users/sanjay/Monash/Master_thesis/lab_work/Li_Lab/ProtPeptigram/ProtPeptigram/runner.py#222\u001b\\\u001b[2m222\u001b[0m\u001b]8;;\u001b\\\n"
      ]
     },
     "metadata": {},
     "output_type": "display_data"
    },
    {
     "data": {
      "text/html": [
       "<pre style=\"white-space:pre;overflow-x:auto;line-height:normal;font-family:Menlo,'DejaVu Sans Mono',consolas,'Courier New',monospace\"><span style=\"color: #7fbfbf; text-decoration-color: #7fbfbf\">           </span><span style=\"font-weight: bold\">PeptiGram for P63260 saved to ..</span><span style=\"color: #800080; text-decoration-color: #800080; font-weight: bold\">/test_outputAPI/</span><span style=\"color: #ff00ff; text-decoration-color: #ff00ff; font-weight: bold\">prot-peptigram_P63260.png</span><span style=\"font-weight: bold\">                 </span> <a href=\"file:///Users/sanjay/Monash/Master_thesis/lab_work/Li_Lab/ProtPeptigram/ProtPeptigram/runner.py\" target=\"_blank\"><span style=\"color: #7f7f7f; text-decoration-color: #7f7f7f\">runner.py</span></a><span style=\"color: #7f7f7f; text-decoration-color: #7f7f7f\">:</span><a href=\"file:///Users/sanjay/Monash/Master_thesis/lab_work/Li_Lab/ProtPeptigram/ProtPeptigram/runner.py#222\" target=\"_blank\"><span style=\"color: #7f7f7f; text-decoration-color: #7f7f7f\">222</span></a>\n",
       "</pre>\n"
      ],
      "text/plain": [
       "\u001b[2;36m          \u001b[0m\u001b[2;36m \u001b[0m\u001b[1mPeptiGram for P63260 saved to ..\u001b[0m\u001b[1;35m/test_outputAPI/\u001b[0m\u001b[1;95mprot-peptigram_P63260.png\u001b[0m\u001b[1m                 \u001b[0m \u001b]8;id=73266;file:///Users/sanjay/Monash/Master_thesis/lab_work/Li_Lab/ProtPeptigram/ProtPeptigram/runner.py\u001b\\\u001b[2mrunner.py\u001b[0m\u001b]8;;\u001b\\\u001b[2m:\u001b[0m\u001b]8;id=352099;file:///Users/sanjay/Monash/Master_thesis/lab_work/Li_Lab/ProtPeptigram/ProtPeptigram/runner.py#222\u001b\\\u001b[2m222\u001b[0m\u001b]8;;\u001b\\\n"
      ]
     },
     "metadata": {},
     "output_type": "display_data"
    },
    {
     "data": {
      "text/html": [
       "<pre style=\"white-space:pre;overflow-x:auto;line-height:normal;font-family:Menlo,'DejaVu Sans Mono',consolas,'Courier New',monospace\"><span style=\"color: #7fbfbf; text-decoration-color: #7fbfbf\">[16:46:02] </span><span style=\"font-weight: bold\">PeptiGram for P60710 saved to ..</span><span style=\"color: #800080; text-decoration-color: #800080; font-weight: bold\">/test_outputAPI/</span><span style=\"color: #ff00ff; text-decoration-color: #ff00ff; font-weight: bold\">prot-peptigram_P60710.png</span><span style=\"font-weight: bold\">                 </span> <a href=\"file:///Users/sanjay/Monash/Master_thesis/lab_work/Li_Lab/ProtPeptigram/ProtPeptigram/runner.py\" target=\"_blank\"><span style=\"color: #7f7f7f; text-decoration-color: #7f7f7f\">runner.py</span></a><span style=\"color: #7f7f7f; text-decoration-color: #7f7f7f\">:</span><a href=\"file:///Users/sanjay/Monash/Master_thesis/lab_work/Li_Lab/ProtPeptigram/ProtPeptigram/runner.py#222\" target=\"_blank\"><span style=\"color: #7f7f7f; text-decoration-color: #7f7f7f\">222</span></a>\n",
       "</pre>\n"
      ],
      "text/plain": [
       "\u001b[2;36m[16:46:02]\u001b[0m\u001b[2;36m \u001b[0m\u001b[1mPeptiGram for P60710 saved to ..\u001b[0m\u001b[1;35m/test_outputAPI/\u001b[0m\u001b[1;95mprot-peptigram_P60710.png\u001b[0m\u001b[1m                 \u001b[0m \u001b]8;id=960942;file:///Users/sanjay/Monash/Master_thesis/lab_work/Li_Lab/ProtPeptigram/ProtPeptigram/runner.py\u001b\\\u001b[2mrunner.py\u001b[0m\u001b]8;;\u001b\\\u001b[2m:\u001b[0m\u001b]8;id=120545;file:///Users/sanjay/Monash/Master_thesis/lab_work/Li_Lab/ProtPeptigram/ProtPeptigram/runner.py#222\u001b\\\u001b[2m222\u001b[0m\u001b]8;;\u001b\\\n"
      ]
     },
     "metadata": {},
     "output_type": "display_data"
    },
    {
     "data": {
      "text/html": [
       "<pre style=\"white-space:pre;overflow-x:auto;line-height:normal;font-family:Menlo,'DejaVu Sans Mono',consolas,'Courier New',monospace\"><span style=\"color: #7fbfbf; text-decoration-color: #7fbfbf\">           </span><span style=\"font-weight: bold\">PeptiGram for P43274 saved to ..</span><span style=\"color: #800080; text-decoration-color: #800080; font-weight: bold\">/test_outputAPI/</span><span style=\"color: #ff00ff; text-decoration-color: #ff00ff; font-weight: bold\">prot-peptigram_P43274.png</span><span style=\"font-weight: bold\">                 </span> <a href=\"file:///Users/sanjay/Monash/Master_thesis/lab_work/Li_Lab/ProtPeptigram/ProtPeptigram/runner.py\" target=\"_blank\"><span style=\"color: #7f7f7f; text-decoration-color: #7f7f7f\">runner.py</span></a><span style=\"color: #7f7f7f; text-decoration-color: #7f7f7f\">:</span><a href=\"file:///Users/sanjay/Monash/Master_thesis/lab_work/Li_Lab/ProtPeptigram/ProtPeptigram/runner.py#222\" target=\"_blank\"><span style=\"color: #7f7f7f; text-decoration-color: #7f7f7f\">222</span></a>\n",
       "</pre>\n"
      ],
      "text/plain": [
       "\u001b[2;36m          \u001b[0m\u001b[2;36m \u001b[0m\u001b[1mPeptiGram for P43274 saved to ..\u001b[0m\u001b[1;35m/test_outputAPI/\u001b[0m\u001b[1;95mprot-peptigram_P43274.png\u001b[0m\u001b[1m                 \u001b[0m \u001b]8;id=385447;file:///Users/sanjay/Monash/Master_thesis/lab_work/Li_Lab/ProtPeptigram/ProtPeptigram/runner.py\u001b\\\u001b[2mrunner.py\u001b[0m\u001b]8;;\u001b\\\u001b[2m:\u001b[0m\u001b]8;id=733986;file:///Users/sanjay/Monash/Master_thesis/lab_work/Li_Lab/ProtPeptigram/ProtPeptigram/runner.py#222\u001b\\\u001b[2m222\u001b[0m\u001b]8;;\u001b\\\n"
      ]
     },
     "metadata": {},
     "output_type": "display_data"
    },
    {
     "data": {
      "text/html": [
       "<pre style=\"white-space:pre;overflow-x:auto;line-height:normal;font-family:Menlo,'DejaVu Sans Mono',consolas,'Courier New',monospace\"><span style=\"color: #7fbfbf; text-decoration-color: #7fbfbf\">           </span><span style=\"font-weight: bold\">Processed peptide data saved to ..</span><span style=\"color: #800080; text-decoration-color: #800080; font-weight: bold\">/test_outputAPI/</span><span style=\"color: #ff00ff; text-decoration-color: #ff00ff; font-weight: bold\">processed_peptides_prot-peptigram.csv</span><span style=\"font-weight: bold\">   </span> <a href=\"file:///Users/sanjay/Monash/Master_thesis/lab_work/Li_Lab/ProtPeptigram/ProtPeptigram/runner.py\" target=\"_blank\"><span style=\"color: #7f7f7f; text-decoration-color: #7f7f7f\">runner.py</span></a><span style=\"color: #7f7f7f; text-decoration-color: #7f7f7f\">:</span><a href=\"file:///Users/sanjay/Monash/Master_thesis/lab_work/Li_Lab/ProtPeptigram/ProtPeptigram/runner.py#229\" target=\"_blank\"><span style=\"color: #7f7f7f; text-decoration-color: #7f7f7f\">229</span></a>\n",
       "</pre>\n"
      ],
      "text/plain": [
       "\u001b[2;36m          \u001b[0m\u001b[2;36m \u001b[0m\u001b[1mProcessed peptide data saved to ..\u001b[0m\u001b[1;35m/test_outputAPI/\u001b[0m\u001b[1;95mprocessed_peptides_prot-peptigram.csv\u001b[0m\u001b[1m   \u001b[0m \u001b]8;id=672765;file:///Users/sanjay/Monash/Master_thesis/lab_work/Li_Lab/ProtPeptigram/ProtPeptigram/runner.py\u001b\\\u001b[2mrunner.py\u001b[0m\u001b]8;;\u001b\\\u001b[2m:\u001b[0m\u001b]8;id=143227;file:///Users/sanjay/Monash/Master_thesis/lab_work/Li_Lab/ProtPeptigram/ProtPeptigram/runner.py#229\u001b\\\u001b[2m229\u001b[0m\u001b]8;;\u001b\\\n"
      ]
     },
     "metadata": {},
     "output_type": "display_data"
    },
    {
     "data": {
      "text/plain": [
       "(<ProtPeptigram.DataProcessor.PeptideDataProcessor at 0x104942000>,\n",
       " <ProtPeptigram.viz.ImmunoViz at 0x137cbb8f0>,\n",
       " ['../test_outputAPI/prot-peptigram_P20152.png',\n",
       "  '../test_outputAPI/prot-peptigram_P32261.png',\n",
       "  '../test_outputAPI/prot-peptigram_P63260.png',\n",
       "  '../test_outputAPI/prot-peptigram_P60710.png',\n",
       "  '../test_outputAPI/prot-peptigram_P43274.png'])"
      ]
     },
     "execution_count": 6,
     "metadata": {},
     "output_type": "execute_result"
    }
   ],
   "source": [
    "run_pipeline(\n",
    "    csv_path = \"../data/JCI146771_Mouse_peptides_peaks_online.csv\",\n",
    "    fasta_path = \"../data/uniprotkb_proteome_UP000000589_AND_revi_2025_03_12.fasta\",\n",
    "    output_dir = \"../test_outputAPI\",\n",
    "    top = 5,\n",
    "    intensity_threshold =0.0,\n",
    "    min_samples = 1,\n",
    ")"
   ]
  },
  {
   "cell_type": "code",
   "execution_count": null,
   "id": "7780b9fd",
   "metadata": {},
   "outputs": [],
   "source": []
  }
 ],
 "metadata": {
  "kernelspec": {
   "display_name": ".venv",
   "language": "python",
   "name": "python3"
  },
  "language_info": {
   "codemirror_mode": {
    "name": "ipython",
    "version": 3
   },
   "file_extension": ".py",
   "mimetype": "text/x-python",
   "name": "python",
   "nbconvert_exporter": "python",
   "pygments_lexer": "ipython3",
   "version": "3.12.9"
  }
 },
 "nbformat": 4,
 "nbformat_minor": 5
}
