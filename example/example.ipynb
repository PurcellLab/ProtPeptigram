{
  "cells": [
    {
      "cell_type": "markdown",
      "metadata": {
        "id": "XgfnHuTXfBQe"
      },
      "source": [
        "# ProtPeptigram\n",
        "\n",
        "![Python Package](https://github.com/Sanpme66/ProtPeptigram/actions/workflows/python-package.yml/badge.svg)\n",
        "[![PyPI version](https://badge.fury.io/py/protpeptigram.svg)](https://badge.fury.io/py/protpeptigram)\n",
        "[![License: MIT](https://img.shields.io/badge/License-MIT-yellow.svg)](https://opensource.org/licenses/MIT)\n",
        "\n",
        "## Visualization of Immunopeptides Mapped to Source Proteins Across Multiple Samples\n",
        "\n",
        "ProtPeptigram provides a comprehensive visualization platform for mapping immunopeptides to their source proteins across different biological samples. This tool enables researchers to identify peptide coverage patterns, analyze density distributions, and compare peptide presentations between experimental conditions.\n"
      ]
    },
    {
      "cell_type": "code",
      "execution_count": 19,
      "metadata": {
        "colab": {
          "base_uri": "https://localhost:8080/"
        },
        "id": "5zKvO5UXfBQg",
        "outputId": "fe20e655-f746-49a5-a265-0098624bb503"
      },
      "outputs": [
        {
          "name": "stdout",
          "output_type": "stream",
          "text": [
            "Requirement already satisfied: protpeptigram in /Users/sanjay/Monash/Master_thesis/lab_work/Li_Lab/ProtPeptigram/.venv/lib/python3.12/site-packages (1.0.0.dev0)\n",
            "Requirement already satisfied: pandas>=1.3.0 in /Users/sanjay/Monash/Master_thesis/lab_work/Li_Lab/ProtPeptigram/.venv/lib/python3.12/site-packages (from protpeptigram) (2.2.3)\n",
            "Requirement already satisfied: numpy>=1.20.0 in /Users/sanjay/Monash/Master_thesis/lab_work/Li_Lab/ProtPeptigram/.venv/lib/python3.12/site-packages (from protpeptigram) (2.2.4)\n",
            "Requirement already satisfied: matplotlib>=3.4.0 in /Users/sanjay/Monash/Master_thesis/lab_work/Li_Lab/ProtPeptigram/.venv/lib/python3.12/site-packages (from protpeptigram) (3.10.1)\n",
            "Requirement already satisfied: seaborn>=0.11.0 in /Users/sanjay/Monash/Master_thesis/lab_work/Li_Lab/ProtPeptigram/.venv/lib/python3.12/site-packages (from protpeptigram) (0.13.2)\n",
            "Requirement already satisfied: biopython>=1.79 in /Users/sanjay/Monash/Master_thesis/lab_work/Li_Lab/ProtPeptigram/.venv/lib/python3.12/site-packages (from protpeptigram) (1.85)\n",
            "Requirement already satisfied: rich>=10.0.0 in /Users/sanjay/Monash/Master_thesis/lab_work/Li_Lab/ProtPeptigram/.venv/lib/python3.12/site-packages (from protpeptigram) (14.0.0)\n",
            "Requirement already satisfied: rich-argparse>=0.5.0 in /Users/sanjay/Monash/Master_thesis/lab_work/Li_Lab/ProtPeptigram/.venv/lib/python3.12/site-packages (from protpeptigram) (1.7.0)\n",
            "Requirement already satisfied: click>=8.0.0 in /Users/sanjay/Monash/Master_thesis/lab_work/Li_Lab/ProtPeptigram/.venv/lib/python3.12/site-packages (from protpeptigram) (8.1.8)\n",
            "Requirement already satisfied: contourpy>=1.0.1 in /Users/sanjay/Monash/Master_thesis/lab_work/Li_Lab/ProtPeptigram/.venv/lib/python3.12/site-packages (from matplotlib>=3.4.0->protpeptigram) (1.3.1)\n",
            "Requirement already satisfied: cycler>=0.10 in /Users/sanjay/Monash/Master_thesis/lab_work/Li_Lab/ProtPeptigram/.venv/lib/python3.12/site-packages (from matplotlib>=3.4.0->protpeptigram) (0.12.1)\n",
            "Requirement already satisfied: fonttools>=4.22.0 in /Users/sanjay/Monash/Master_thesis/lab_work/Li_Lab/ProtPeptigram/.venv/lib/python3.12/site-packages (from matplotlib>=3.4.0->protpeptigram) (4.56.0)\n",
            "Requirement already satisfied: kiwisolver>=1.3.1 in /Users/sanjay/Monash/Master_thesis/lab_work/Li_Lab/ProtPeptigram/.venv/lib/python3.12/site-packages (from matplotlib>=3.4.0->protpeptigram) (1.4.8)\n",
            "Requirement already satisfied: packaging>=20.0 in /Users/sanjay/Monash/Master_thesis/lab_work/Li_Lab/ProtPeptigram/.venv/lib/python3.12/site-packages (from matplotlib>=3.4.0->protpeptigram) (24.2)\n",
            "Requirement already satisfied: pillow>=8 in /Users/sanjay/Monash/Master_thesis/lab_work/Li_Lab/ProtPeptigram/.venv/lib/python3.12/site-packages (from matplotlib>=3.4.0->protpeptigram) (11.1.0)\n",
            "Requirement already satisfied: pyparsing>=2.3.1 in /Users/sanjay/Monash/Master_thesis/lab_work/Li_Lab/ProtPeptigram/.venv/lib/python3.12/site-packages (from matplotlib>=3.4.0->protpeptigram) (3.2.3)\n",
            "Requirement already satisfied: python-dateutil>=2.7 in /Users/sanjay/Monash/Master_thesis/lab_work/Li_Lab/ProtPeptigram/.venv/lib/python3.12/site-packages (from matplotlib>=3.4.0->protpeptigram) (2.9.0.post0)\n",
            "Requirement already satisfied: pytz>=2020.1 in /Users/sanjay/Monash/Master_thesis/lab_work/Li_Lab/ProtPeptigram/.venv/lib/python3.12/site-packages (from pandas>=1.3.0->protpeptigram) (2025.2)\n",
            "Requirement already satisfied: tzdata>=2022.7 in /Users/sanjay/Monash/Master_thesis/lab_work/Li_Lab/ProtPeptigram/.venv/lib/python3.12/site-packages (from pandas>=1.3.0->protpeptigram) (2025.2)\n",
            "Requirement already satisfied: markdown-it-py>=2.2.0 in /Users/sanjay/Monash/Master_thesis/lab_work/Li_Lab/ProtPeptigram/.venv/lib/python3.12/site-packages (from rich>=10.0.0->protpeptigram) (3.0.0)\n",
            "Requirement already satisfied: pygments<3.0.0,>=2.13.0 in /Users/sanjay/Monash/Master_thesis/lab_work/Li_Lab/ProtPeptigram/.venv/lib/python3.12/site-packages (from rich>=10.0.0->protpeptigram) (2.19.1)\n",
            "Requirement already satisfied: mdurl~=0.1 in /Users/sanjay/Monash/Master_thesis/lab_work/Li_Lab/ProtPeptigram/.venv/lib/python3.12/site-packages (from markdown-it-py>=2.2.0->rich>=10.0.0->protpeptigram) (0.1.2)\n",
            "Requirement already satisfied: six>=1.5 in /Users/sanjay/Monash/Master_thesis/lab_work/Li_Lab/ProtPeptigram/.venv/lib/python3.12/site-packages (from python-dateutil>=2.7->matplotlib>=3.4.0->protpeptigram) (1.17.0)\n"
          ]
        }
      ],
      "source": [
        "!pip install protpeptigram"
      ]
    },
    {
      "cell_type": "code",
      "execution_count": 20,
      "metadata": {
        "colab": {
          "base_uri": "https://localhost:8080/"
        },
        "id": "102KCS-rfGIj",
        "outputId": "0a7c42f3-4cc1-4a83-9ac6-dd1a850a03ee"
      },
      "outputs": [
        {
          "name": "stdout",
          "output_type": "stream",
          "text": [
            "/Users/sanjay/Monash/Master_thesis/lab_work/Li_Lab/ProtPeptigram/example/data\n",
            "  % Total    % Received % Xferd  Average Speed   Time    Time     Time  Current\n",
            "                                 Dload  Upload   Total   Spent    Left  Speed\n",
            "  0     0    0     0    0     0      0      0 --:--:-- --:--:-- --:--:--     0\n",
            "100 1494k  100 1494k    0     0  1294k      0  0:00:01  0:00:01 --:--:-- 42.3M\n",
            "  % Total    % Received % Xferd  Average Speed   Time    Time     Time  Current\n",
            "                                 Dload  Upload   Total   Spent    Left  Speed\n",
            "  0     0    0     0    0     0      0      0 --:--:-- --:--:-- --:--:--     0\n",
            "100 11.1M  100 11.1M    0     0  7704k      0  0:00:01  0:00:01 --:--:-- 27.7M\n",
            "/Users/sanjay/Monash/Master_thesis/lab_work/Li_Lab/ProtPeptigram/example\n"
          ]
        }
      ],
      "source": [
        "!mkdir data\n",
        "%cd data\n",
        "!curl -L -O https://github.com/Sanpme66/ProtPeptigram/raw/main/data/JCI146771_Mouse_peptides_peaks_online.csv\n",
        "!curl -L -O https://github.com/Sanpme66/ProtPeptigram/raw/main/data/uniprotkb_proteome_UP000000589_AND_revi_2025_03_12.fasta\n",
        "%cd .."
      ]
    },
    {
      "cell_type": "code",
      "execution_count": 21,
      "metadata": {
        "colab": {
          "base_uri": "https://localhost:8080/",
          "height": 1000
        },
        "id": "hFSyorpFfBQg",
        "outputId": "bbff955b-b253-4af2-ecf7-3ca1b4466d21"
      },
      "outputs": [
        {
          "ename": "ModuleNotFoundError",
          "evalue": "No module named 'ProtPeptigram'",
          "output_type": "error",
          "traceback": [
            "\u001b[31m---------------------------------------------------------------------------\u001b[39m",
            "\u001b[31mModuleNotFoundError\u001b[39m                       Traceback (most recent call last)",
            "\u001b[36mCell\u001b[39m\u001b[36m \u001b[39m\u001b[32mIn[21]\u001b[39m\u001b[32m, line 1\u001b[39m\n\u001b[32m----> \u001b[39m\u001b[32m1\u001b[39m \u001b[38;5;28;01mfrom\u001b[39;00m\u001b[38;5;250m \u001b[39m\u001b[34;01mProtPeptigram\u001b[39;00m\u001b[34;01m.\u001b[39;00m\u001b[34;01mDataProcessor\u001b[39;00m\u001b[38;5;250m \u001b[39m\u001b[38;5;28;01mimport\u001b[39;00m PeptideDataProcessor\n\u001b[32m      2\u001b[39m \u001b[38;5;28;01mfrom\u001b[39;00m\u001b[38;5;250m \u001b[39m\u001b[34;01mProtPeptigram\u001b[39;00m\u001b[34;01m.\u001b[39;00m\u001b[34;01mviz\u001b[39;00m\u001b[38;5;250m \u001b[39m\u001b[38;5;28;01mimport\u001b[39;00m ImmunoViz\n\u001b[32m      4\u001b[39m \u001b[38;5;66;03m# Initialize data processor\u001b[39;00m\n",
            "\u001b[31mModuleNotFoundError\u001b[39m: No module named 'ProtPeptigram'"
          ]
        }
      ],
      "source": [
        "from ProtPeptigram.DataProcessor import PeptideDataProcessor\n",
        "from ProtPeptigram.viz import ImmunoViz\n",
        "\n",
        "# Initialize data processor\n",
        "processor = PeptideDataProcessor()\n",
        "\n",
        "# Load data\n",
        "processor.load_peaks_data(\"./data/JCI146771_Mouse_peptides_peaks_online.csv\")\n",
        "processor.load_protein_sequences(\"./data/uniprotkb_proteome_UP000000589_AND_revi_2025_03_12.fasta\")\n",
        "\n",
        "# Process data\n",
        "formatted_data = processor.filter_and_format_data(\n",
        "    filter_contaminants=True,\n",
        "    intensity_threshold=0,\n",
        "    min_samples=1\n",
        ")\n",
        "\n",
        "# Create visualizations\n",
        "viz = ImmunoViz(formatted_data)\n",
        "fig, _ = viz.plot_peptigram(\n",
        "    protein_ids=[\"P20152\"],\n",
        "    group_by=\"Sample\",\n",
        "    color_by=\"protein\",\n",
        "     protein_cmap=\"Set1\",\n",
        "    title=\"HLA peptide source protein visualization with highlighted highest density regions\",\n",
        ")\n",
        "\n",
        "# Save visualization\n",
        "fig.savefig(\"protein_visualization.png\", dpi=300, bbox_inches=\"tight\")"
      ]
    },
    {
      "cell_type": "markdown",
      "metadata": {
        "id": "Mx3kf56ZfBQh"
      },
      "source": [
        "## Without highlight"
      ]
    },
    {
      "cell_type": "code",
      "execution_count": 18,
      "metadata": {
        "colab": {
          "base_uri": "https://localhost:8080/",
          "height": 1000
        },
        "id": "jrL7KrUYfBQh",
        "outputId": "62de4e38-9070-4d2a-ec44-4cc8060fd3d4"
      },
      "outputs": [
        {
          "ename": "ModuleNotFoundError",
          "evalue": "No module named 'ProtPeptigram'",
          "output_type": "error",
          "traceback": [
            "\u001b[31m---------------------------------------------------------------------------\u001b[39m",
            "\u001b[31mModuleNotFoundError\u001b[39m                       Traceback (most recent call last)",
            "\u001b[36mCell\u001b[39m\u001b[36m \u001b[39m\u001b[32mIn[18]\u001b[39m\u001b[32m, line 1\u001b[39m\n\u001b[32m----> \u001b[39m\u001b[32m1\u001b[39m \u001b[38;5;28;01mfrom\u001b[39;00m\u001b[38;5;250m \u001b[39m\u001b[34;01mProtPeptigram\u001b[39;00m\u001b[34;01m.\u001b[39;00m\u001b[34;01mDataProcessor\u001b[39;00m\u001b[38;5;250m \u001b[39m\u001b[38;5;28;01mimport\u001b[39;00m PeptideDataProcessor\n\u001b[32m      2\u001b[39m \u001b[38;5;28;01mfrom\u001b[39;00m\u001b[38;5;250m \u001b[39m\u001b[34;01mProtPeptigram\u001b[39;00m\u001b[34;01m.\u001b[39;00m\u001b[34;01mviz\u001b[39;00m\u001b[38;5;250m \u001b[39m\u001b[38;5;28;01mimport\u001b[39;00m ImmunoViz\n\u001b[32m      4\u001b[39m \u001b[38;5;66;03m# Initialize data processor\u001b[39;00m\n",
            "\u001b[31mModuleNotFoundError\u001b[39m: No module named 'ProtPeptigram'"
          ]
        }
      ],
      "source": [
        "from ProtPeptigram.DataProcessor import PeptideDataProcessor\n",
        "from ProtPeptigram.viz import ImmunoViz\n",
        "\n",
        "# Initialize data processor\n",
        "processor = PeptideDataProcessor()\n",
        "\n",
        "# Load data\n",
        "processor.load_peaks_data(\"./data/JCI146771_Mouse_peptides_peaks_online.csv\")\n",
        "processor.load_protein_sequences(\"./data/uniprotkb_proteome_UP000000589_AND_revi_2025_03_12.fasta\")\n",
        "\n",
        "# Process data\n",
        "formatted_data = processor.filter_and_format_data(\n",
        "    filter_contaminants=True,\n",
        "    intensity_threshold=0,\n",
        "    min_samples=2\n",
        ")\n",
        "\n",
        "# Create visualizations\n",
        "viz = ImmunoViz(formatted_data)\n",
        "# fig, _ = viz.plot_peptigram(\n",
        "#     protein_ids=[\"P20152\"],\n",
        "#     group_by=\"Sample\",\n",
        "#     color_by=\"protein\",\n",
        "#     title=\"HLA Peptide Visualization\"\n",
        "# )\n",
        "\n",
        "\n",
        "fig, _ = viz.plot_peptigram(\n",
        "    ['P20152'],#'P32261'], #['P20152','P32261','Q9QX47'],\n",
        "    group_by='Sample',\n",
        "    color_by='test',\n",
        "    figsize=(14, 12),\n",
        "    title=\"HLA peptide source protein visualization without highlighted highest density regions\",\n",
        "    color_by_protein_and_intensity=False,\n",
        "    # Assign specific colormaps to each protein\n",
        "    # intensity_cmaps=[\"Blues\", \"Reds\", \"Greens\", \"Purples\"],\n",
        "    protein_cmap=\"Set1\",\n",
        "    external_legend=True,\n",
        "    highlight=False,\n",
        "    auto_highlight=False,\n",
        "    highlight_alpha=100,\n",
        "    auto_highlight_threshold=0.8,\n",
        "    auto_highlight_window=10,\n",
        "    dpi=120\n",
        ")\n",
        "\n",
        "\n",
        "# # Save visualization\n",
        "# fig.savefig(\"protein_visualization_without_h.png\", dpi=300, bbox_inches=\"tight\")\n",
        "\n"
      ]
    },
    {
      "cell_type": "code",
      "execution_count": null,
      "metadata": {
        "id": "CYWwe9GmfBQj"
      },
      "outputs": [],
      "source": []
    }
  ],
  "metadata": {
    "colab": {
      "provenance": []
    },
    "kernelspec": {
      "display_name": ".venv",
      "language": "python",
      "name": "python3"
    },
    "language_info": {
      "codemirror_mode": {
        "name": "ipython",
        "version": 3
      },
      "file_extension": ".py",
      "mimetype": "text/x-python",
      "name": "python",
      "nbconvert_exporter": "python",
      "pygments_lexer": "ipython3",
      "version": "3.12.9"
    }
  },
  "nbformat": 4,
  "nbformat_minor": 0
}
